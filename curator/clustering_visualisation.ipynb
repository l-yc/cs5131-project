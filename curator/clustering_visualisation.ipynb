{
 "cells": [
  {
   "cell_type": "code",
   "execution_count": 30,
   "metadata": {},
   "outputs": [
    {
     "name": "stdout",
     "output_type": "stream",
     "text": [
      "100\n",
      "[[0. 0. 0. ... 0. 0. 0.]\n",
      " [0. 0. 0. ... 0. 0. 0.]\n",
      " [0. 0. 0. ... 0. 0. 0.]\n",
      " ...\n",
      " [0. 0. 0. ... 0. 0. 0.]\n",
      " [0. 0. 0. ... 0. 0. 0.]\n",
      " [0. 0. 0. ... 0. 0. 0.]]\n",
      "Generating 5 clusters\n",
      "0.006158740764516446\n"
     ]
    },
    {
     "data": {
      "image/png": "[encoded data removed]",
      "text/plain": [
       "<Figure size 432x288 with 1 Axes>"
      ]
     },
     "metadata": {
      "needs_background": "light"
     },
     "output_type": "display_data"
    },
    {
     "name": "stdout",
     "output_type": "stream",
     "text": [
      "None\n"
     ]
    }
   ],
   "source": [
    "#!/usr/bin/python3\n",
    "import feedparser\n",
    "\n",
    "class Fetcher:\n",
    "    \"\"\" Supplies the news articles \"\"\"\n",
    "    def __init__(self):\n",
    "        pass\n",
    "\n",
    "    def fetch(self, url):\n",
    "        NewsFeed = feedparser.parse(url)\n",
    "        print(len(NewsFeed.entries))\n",
    "        entry = NewsFeed.entries[1] # list of entry objects\n",
    "\n",
    "        #print(entry.keys())\n",
    "        #print(entry.title)\n",
    "        #print(entry.summary)\n",
    "        #print(entry)\n",
    "        return NewsFeed.entries\n",
    "\n",
    "    def fetch(self):\n",
    "        NewsFeed = feedparser.parse('https://www.channelnewsasia.com/rssfeeds/8395986') # ugly temp function for testing\n",
    "        print(len(NewsFeed.entries))\n",
    "        entry = NewsFeed.entries[1] # list of entry objects\n",
    "\n",
    "        #print(entry.keys())\n",
    "        #print(entry.title)\n",
    "        #print(entry.summary)\n",
    "        #print(entry)\n",
    "        return NewsFeed.entries\n",
    "    \n",
    "from sklearn.feature_extraction.text import TfidfVectorizer\n",
    "\n",
    "import matplotlib.pyplot as plt\n",
    "from sklearn.cluster import KMeans\n",
    "from sklearn.decomposition import PCA\n",
    "from sklearn.manifold import TSNE\n",
    "\n",
    "from sklearn.metrics import silhouette_score\n",
    "\n",
    "class Curator:\n",
    "    \n",
    "    \n",
    "\n",
    "    def __init__(self):\n",
    "        self.fetcher = Fetcher()\n",
    "        pass\n",
    "\n",
    "    \n",
    "    def curate(self):\n",
    "        articles = self.fetcher.fetch()\n",
    "        \n",
    "        corpus = [ x.summary for x in articles ]\n",
    "\n",
    "        #print(\"Corpus: \", corpus)\n",
    "\n",
    "        # calculate the tfidf document vectors\n",
    "        tfidf_vectorizer = TfidfVectorizer()\n",
    "        #tf_idf_vectorizer = TfidfVectorizer(analyzer=\"word\", use_idf=True, smooth_idf=True, ngram_range=(2, 3))\n",
    "        tfidf_matrix = tfidf_vectorizer.fit_transform(corpus)\n",
    "        print(tfidf_matrix.toarray())\n",
    "\n",
    "        # apply kmeans clustering for classfication\n",
    "        n_clusters = round(len(corpus) ** 0.5 * 0.5)\n",
    "        print(\"Generating {} clusters\".format(n_clusters))\n",
    "        clustering_model = KMeans(  # create k-means model with custom config\n",
    "            n_clusters=n_clusters,\n",
    "            max_iter=300,\n",
    "            precompute_distances=\"auto\",\n",
    "            n_jobs=-1\n",
    "        )\n",
    "\n",
    "        document_labels = clustering_model.fit_predict(tfidf_matrix) # array of cluster label by document\n",
    "\n",
    "        # evaluate the clustering quality -1 is bad, 0 is overlap, 1 is good\n",
    "        print(silhouette_score(tfidf_matrix, labels=document_labels))\n",
    "        self.visualize_tfidf_matrix(tfidf_matrix)\n",
    "\n",
    "        \n",
    "    def visualize_tfidf_matrix(self, tfidf_matrix):\n",
    "        # Visualisation (optional)\n",
    "        # ----------------------------------------------------------------------------------------------------------------------\n",
    "        X = tfidf_matrix.todense() # convert list of vectors into 2d matrix\n",
    "        \n",
    "        # first reduction using PCA (Principal Component Analysis)\n",
    "        reduced_data = PCA(n_components=50).fit_transform(X)\n",
    "        \n",
    "#         labels_color_map = {\n",
    "#             0: '#20b2aa', 1: '#ff7373', 2: '#ffe4e1', 3: '#005073', 4: '#4d0404',\n",
    "#             5: '#ccc0ba', 6: '#4700f9', 7: '#f6f900', 8: '#00f91d', 9: '#da8c49'\n",
    "#         }\n",
    "#         fig, ax = plt.subplots()\n",
    "#         for index, instance in enumerate(reduced_data):\n",
    "#             # print instance, index, labels[index]\n",
    "#             pca_comp_1, pca_comp_2 = reduced_data[index]\n",
    "#             color = labels_color_map[labels[index]]\n",
    "#             ax.scatter(pca_comp_1, pca_comp_2, c=color)\n",
    "#         plt.show()\n",
    "\n",
    "        # second reduction using t-SNE (t-Distributed Stochastic Neighbouring Entities)\n",
    "        embeddings = TSNE(n_components=2)\n",
    "        Y = embeddings.fit_transform(X)\n",
    "        plt.scatter(Y[:, 0], Y[:, 1], cmap=plt.cm.Spectral)\n",
    "        plt.show()\n",
    "\n",
    "        \n",
    "        \n",
    "if __name__ == '__main__':\n",
    "    curator = Curator()\n",
    "    print(curator.curate())\n"
   ]
  }
 ],
 "metadata": {
  "kernelspec": {
   "display_name": "Python 3",
   "language": "python",
   "name": "python3"
  },
  "language_info": {
   "codemirror_mode": {
    "name": "ipython",
    "version": 3
   },
   "file_extension": ".py",
   "mimetype": "text/x-python",
   "name": "python",
   "nbconvert_exporter": "python",
   "pygments_lexer": "ipython3",
   "version": "3.7.3"
  }
 },
 "nbformat": 4,
 "nbformat_minor": 4
}
